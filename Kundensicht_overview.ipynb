{
 "cells": [
  {
   "cell_type": "markdown",
   "id": "3891964f",
   "metadata": {},
   "source": [
    "# Bibliotheken laden\n",
    "#### Daten-Upload"
   ]
  },
  {
   "cell_type": "code",
   "execution_count": 2,
   "id": "51e7ab70",
   "metadata": {},
   "outputs": [],
   "source": [
    "import pandas as pd"
   ]
  },
  {
   "cell_type": "code",
   "execution_count": 3,
   "id": "f9cebc46",
   "metadata": {},
   "outputs": [],
   "source": [
    "Kundensicht = 'raw_data\\Kundensicht.csv'\n",
    "sep = ';'\n",
    "encoding=\"ISO-8859-1\""
   ]
  },
  {
   "cell_type": "code",
   "execution_count": 4,
   "id": "b321f385",
   "metadata": {},
   "outputs": [
    {
     "data": {
      "text/html": [
       "<div>\n",
       "<style scoped>\n",
       "    .dataframe tbody tr th:only-of-type {\n",
       "        vertical-align: middle;\n",
       "    }\n",
       "\n",
       "    .dataframe tbody tr th {\n",
       "        vertical-align: top;\n",
       "    }\n",
       "\n",
       "    .dataframe thead th {\n",
       "        text-align: right;\n",
       "    }\n",
       "</style>\n",
       "<table border=\"1\" class=\"dataframe\">\n",
       "  <thead>\n",
       "    <tr style=\"text-align: right;\">\n",
       "      <th></th>\n",
       "      <th>Unnamed: 0</th>\n",
       "      <th>KundenNr</th>\n",
       "      <th>Ort</th>\n",
       "      <th>GeoId</th>\n",
       "    </tr>\n",
       "  </thead>\n",
       "  <tbody>\n",
       "    <tr>\n",
       "      <th>0</th>\n",
       "      <td>1</td>\n",
       "      <td>8715d06c5a081b4fc09a1e3c543a46c0</td>\n",
       "      <td>Oberfell</td>\n",
       "      <td>fc3f49f4a1e3f928b3e98c606ccb1da2</td>\n",
       "    </tr>\n",
       "    <tr>\n",
       "      <th>1</th>\n",
       "      <td>2</td>\n",
       "      <td>972ca3aeccb4df7d6702925cfb516847</td>\n",
       "      <td>Rengsdorf</td>\n",
       "      <td>fc19ae7cf6355599ca723f97daecdf06</td>\n",
       "    </tr>\n",
       "  </tbody>\n",
       "</table>\n",
       "</div>"
      ],
      "text/plain": [
       "   Unnamed: 0                          KundenNr        Ort  \\\n",
       "0           1  8715d06c5a081b4fc09a1e3c543a46c0   Oberfell   \n",
       "1           2  972ca3aeccb4df7d6702925cfb516847  Rengsdorf   \n",
       "\n",
       "                              GeoId  \n",
       "0  fc3f49f4a1e3f928b3e98c606ccb1da2  \n",
       "1  fc19ae7cf6355599ca723f97daecdf06  "
      ]
     },
     "execution_count": 4,
     "metadata": {},
     "output_type": "execute_result"
    }
   ],
   "source": [
    "# Es werden nur die ersten zwei Zeilen geladen, um die Header-Struktur zu überprüfen\n",
    "df = pd.read_csv(Kundensicht, sep=sep, nrows=2, encoding=encoding)\n",
    "cols = df.columns\n",
    "df.head()"
   ]
  },
  {
   "cell_type": "code",
   "execution_count": 5,
   "id": "83f5e7da",
   "metadata": {},
   "outputs": [
    {
     "data": {
      "text/html": [
       "<div>\n",
       "<style scoped>\n",
       "    .dataframe tbody tr th:only-of-type {\n",
       "        vertical-align: middle;\n",
       "    }\n",
       "\n",
       "    .dataframe tbody tr th {\n",
       "        vertical-align: top;\n",
       "    }\n",
       "\n",
       "    .dataframe thead th {\n",
       "        text-align: right;\n",
       "    }\n",
       "</style>\n",
       "<table border=\"1\" class=\"dataframe\">\n",
       "  <thead>\n",
       "    <tr style=\"text-align: right;\">\n",
       "      <th></th>\n",
       "      <th>KundenNr</th>\n",
       "      <th>Ort</th>\n",
       "      <th>GeoId</th>\n",
       "    </tr>\n",
       "  </thead>\n",
       "  <tbody>\n",
       "    <tr>\n",
       "      <th>0</th>\n",
       "      <td>8715d06c5a081b4fc09a1e3c543a46c0</td>\n",
       "      <td>Oberfell</td>\n",
       "      <td>fc3f49f4a1e3f928b3e98c606ccb1da2</td>\n",
       "    </tr>\n",
       "    <tr>\n",
       "      <th>1</th>\n",
       "      <td>972ca3aeccb4df7d6702925cfb516847</td>\n",
       "      <td>Rengsdorf</td>\n",
       "      <td>fc19ae7cf6355599ca723f97daecdf06</td>\n",
       "    </tr>\n",
       "    <tr>\n",
       "      <th>2</th>\n",
       "      <td>10105a93b7fb41180b2986c790e79a1b</td>\n",
       "      <td>Oberelbert</td>\n",
       "      <td>5e4ec8e68ae5642f5aefc7c25ef2cf6e</td>\n",
       "    </tr>\n",
       "  </tbody>\n",
       "</table>\n",
       "</div>"
      ],
      "text/plain": [
       "                           KundenNr         Ort  \\\n",
       "0  8715d06c5a081b4fc09a1e3c543a46c0    Oberfell   \n",
       "1  972ca3aeccb4df7d6702925cfb516847   Rengsdorf   \n",
       "2  10105a93b7fb41180b2986c790e79a1b  Oberelbert   \n",
       "\n",
       "                              GeoId  \n",
       "0  fc3f49f4a1e3f928b3e98c606ccb1da2  \n",
       "1  fc19ae7cf6355599ca723f97daecdf06  \n",
       "2  5e4ec8e68ae5642f5aefc7c25ef2cf6e  "
      ]
     },
     "execution_count": 5,
     "metadata": {},
     "output_type": "execute_result"
    }
   ],
   "source": [
    "# Hochladen von Daten ohne die erste Spalte\n",
    "cols = df.columns\n",
    "df = pd.read_csv(Kundensicht, sep=sep, usecols=cols[1:], encoding=encoding)\n",
    "df.head(3)"
   ]
  },
  {
   "cell_type": "markdown",
   "id": "28403645",
   "metadata": {},
   "source": [
    "# Basisinformationen zum Datensatz"
   ]
  },
  {
   "cell_type": "code",
   "execution_count": 6,
   "id": "cc20fdc5",
   "metadata": {},
   "outputs": [
    {
     "data": {
      "text/plain": [
       "(7661, 3)"
      ]
     },
     "execution_count": 6,
     "metadata": {},
     "output_type": "execute_result"
    }
   ],
   "source": [
    "# Datendimensionen\n",
    "df.shape"
   ]
  },
  {
   "cell_type": "code",
   "execution_count": 7,
   "id": "60a150b0",
   "metadata": {},
   "outputs": [
    {
     "data": {
      "text/plain": [
       "KundenNr      0\n",
       "Ort         104\n",
       "GeoId         0\n",
       "dtype: int64"
      ]
     },
     "execution_count": 7,
     "metadata": {},
     "output_type": "execute_result"
    }
   ],
   "source": [
    "# ob es leere Zellen gibt\n",
    "df.isna().sum()"
   ]
  },
  {
   "cell_type": "code",
   "execution_count": 8,
   "id": "11abd648",
   "metadata": {},
   "outputs": [
    {
     "data": {
      "text/html": [
       "<div>\n",
       "<style scoped>\n",
       "    .dataframe tbody tr th:only-of-type {\n",
       "        vertical-align: middle;\n",
       "    }\n",
       "\n",
       "    .dataframe tbody tr th {\n",
       "        vertical-align: top;\n",
       "    }\n",
       "\n",
       "    .dataframe thead th {\n",
       "        text-align: right;\n",
       "    }\n",
       "</style>\n",
       "<table border=\"1\" class=\"dataframe\">\n",
       "  <thead>\n",
       "    <tr style=\"text-align: right;\">\n",
       "      <th></th>\n",
       "      <th>KundenNr</th>\n",
       "      <th>Ort</th>\n",
       "      <th>GeoId</th>\n",
       "    </tr>\n",
       "  </thead>\n",
       "  <tbody>\n",
       "    <tr>\n",
       "      <th>1568</th>\n",
       "      <td>282dbf77001d25ec8a108557ca6b6618</td>\n",
       "      <td>NaN</td>\n",
       "      <td>c7f66da1cae4f223b9bae717f05900f7</td>\n",
       "    </tr>\n",
       "    <tr>\n",
       "      <th>1569</th>\n",
       "      <td>7a797fc024702c30d510ff7c41797782</td>\n",
       "      <td>NaN</td>\n",
       "      <td>c7f66da1cae4f223b9bae717f05900f7</td>\n",
       "    </tr>\n",
       "    <tr>\n",
       "      <th>1570</th>\n",
       "      <td>efd1988b1bc4044c0f41819cd51a3472</td>\n",
       "      <td>NaN</td>\n",
       "      <td>c7f66da1cae4f223b9bae717f05900f7</td>\n",
       "    </tr>\n",
       "    <tr>\n",
       "      <th>1571</th>\n",
       "      <td>560303717a2b2cc75bc1f927f04c4f43</td>\n",
       "      <td>NaN</td>\n",
       "      <td>c7f66da1cae4f223b9bae717f05900f7</td>\n",
       "    </tr>\n",
       "    <tr>\n",
       "      <th>1572</th>\n",
       "      <td>8448a3a317b3b4be965078f286789d5f</td>\n",
       "      <td>NaN</td>\n",
       "      <td>c7f66da1cae4f223b9bae717f05900f7</td>\n",
       "    </tr>\n",
       "  </tbody>\n",
       "</table>\n",
       "</div>"
      ],
      "text/plain": [
       "                              KundenNr  Ort                             GeoId\n",
       "1568  282dbf77001d25ec8a108557ca6b6618  NaN  c7f66da1cae4f223b9bae717f05900f7\n",
       "1569  7a797fc024702c30d510ff7c41797782  NaN  c7f66da1cae4f223b9bae717f05900f7\n",
       "1570  efd1988b1bc4044c0f41819cd51a3472  NaN  c7f66da1cae4f223b9bae717f05900f7\n",
       "1571  560303717a2b2cc75bc1f927f04c4f43  NaN  c7f66da1cae4f223b9bae717f05900f7\n",
       "1572  8448a3a317b3b4be965078f286789d5f  NaN  c7f66da1cae4f223b9bae717f05900f7"
      ]
     },
     "metadata": {},
     "output_type": "display_data"
    }
   ],
   "source": [
    "#um die Zeilen anzuzeigen, in denen die Spalte „Ort“ leere Werte enthält:\n",
    "empty_ort_df = df[df['Ort'].isna()]\n",
    "display(empty_ort_df.head())"
   ]
  },
  {
   "cell_type": "code",
   "execution_count": 9,
   "id": "1012c68e",
   "metadata": {},
   "outputs": [
    {
     "data": {
      "text/plain": [
       "array(['c7f66da1cae4f223b9bae717f05900f7'], dtype=object)"
      ]
     },
     "execution_count": 9,
     "metadata": {},
     "output_type": "execute_result"
    }
   ],
   "source": [
    "# Was sind die einzigartigen GeoId-Spaltenwerte für diese Teilmenge?\n",
    "empty_ort_df['GeoId'].unique()"
   ]
  },
  {
   "cell_type": "code",
   "execution_count": 10,
   "id": "06928d05",
   "metadata": {},
   "outputs": [
    {
     "data": {
      "text/html": [
       "<div>\n",
       "<style scoped>\n",
       "    .dataframe tbody tr th:only-of-type {\n",
       "        vertical-align: middle;\n",
       "    }\n",
       "\n",
       "    .dataframe tbody tr th {\n",
       "        vertical-align: top;\n",
       "    }\n",
       "\n",
       "    .dataframe thead th {\n",
       "        text-align: right;\n",
       "    }\n",
       "</style>\n",
       "<table border=\"1\" class=\"dataframe\">\n",
       "  <thead>\n",
       "    <tr style=\"text-align: right;\">\n",
       "      <th></th>\n",
       "      <th>KundenNr</th>\n",
       "      <th>Ort</th>\n",
       "      <th>GeoId</th>\n",
       "    </tr>\n",
       "  </thead>\n",
       "  <tbody>\n",
       "  </tbody>\n",
       "</table>\n",
       "</div>"
      ],
      "text/plain": [
       "Empty DataFrame\n",
       "Columns: [KundenNr, Ort, GeoId]\n",
       "Index: []"
      ]
     },
     "execution_count": 10,
     "metadata": {},
     "output_type": "execute_result"
    }
   ],
   "source": [
    "# Finden einzigartiger GeoId-Werte für leere Orte\n",
    "unique_geo_ids_for_empty_ort = empty_ort_df['GeoId'].unique()\n",
    "\n",
    "# DataFrame-Filterung für Fälle, in denen Ort nicht leer ist und GeoId zu den einzigartigen Werten für leere Orte gehört\n",
    "non_empty_ort_with_geo_ids = df[df['GeoId'].isin(unique_geo_ids_for_empty_ort) & df['Ort'].notna()]\n",
    "\n",
    "non_empty_ort_with_geo_ids"
   ]
  },
  {
   "cell_type": "code",
   "execution_count": 11,
   "id": "a48f2b10",
   "metadata": {},
   "outputs": [],
   "source": [
    "# leere Werte durch einen temporären, nicht realen Namen ersetzen\n",
    "df['Ort'].fillna('Gotham City', inplace=True)"
   ]
  },
  {
   "cell_type": "code",
   "execution_count": 12,
   "id": "8e7c56f2",
   "metadata": {},
   "outputs": [
    {
     "data": {
      "text/plain": [
       "KundenNr    object\n",
       "Ort         object\n",
       "GeoId       object\n",
       "dtype: object"
      ]
     },
     "execution_count": 12,
     "metadata": {},
     "output_type": "execute_result"
    }
   ],
   "source": [
    "# Überprüfung des Datentyps\n",
    "df.dtypes"
   ]
  },
  {
   "cell_type": "code",
   "execution_count": 13,
   "id": "c034bb3e",
   "metadata": {},
   "outputs": [
    {
     "data": {
      "text/html": [
       "<div>\n",
       "<style scoped>\n",
       "    .dataframe tbody tr th:only-of-type {\n",
       "        vertical-align: middle;\n",
       "    }\n",
       "\n",
       "    .dataframe tbody tr th {\n",
       "        vertical-align: top;\n",
       "    }\n",
       "\n",
       "    .dataframe thead th {\n",
       "        text-align: right;\n",
       "    }\n",
       "</style>\n",
       "<table border=\"1\" class=\"dataframe\">\n",
       "  <thead>\n",
       "    <tr style=\"text-align: right;\">\n",
       "      <th></th>\n",
       "      <th>KundenNr</th>\n",
       "      <th>Ort</th>\n",
       "      <th>GeoId</th>\n",
       "    </tr>\n",
       "  </thead>\n",
       "  <tbody>\n",
       "    <tr>\n",
       "      <th>count</th>\n",
       "      <td>7661</td>\n",
       "      <td>7661</td>\n",
       "      <td>7661</td>\n",
       "    </tr>\n",
       "    <tr>\n",
       "      <th>unique</th>\n",
       "      <td>7610</td>\n",
       "      <td>814</td>\n",
       "      <td>7305</td>\n",
       "    </tr>\n",
       "    <tr>\n",
       "      <th>top</th>\n",
       "      <td>79143db83c8e10f0cb6af3e37d2f0e67</td>\n",
       "      <td>Koblenz</td>\n",
       "      <td>c7f66da1cae4f223b9bae717f05900f7</td>\n",
       "    </tr>\n",
       "    <tr>\n",
       "      <th>freq</th>\n",
       "      <td>4</td>\n",
       "      <td>1736</td>\n",
       "      <td>104</td>\n",
       "    </tr>\n",
       "  </tbody>\n",
       "</table>\n",
       "</div>"
      ],
      "text/plain": [
       "                                KundenNr      Ort  \\\n",
       "count                               7661     7661   \n",
       "unique                              7610      814   \n",
       "top     79143db83c8e10f0cb6af3e37d2f0e67  Koblenz   \n",
       "freq                                   4     1736   \n",
       "\n",
       "                                   GeoId  \n",
       "count                               7661  \n",
       "unique                              7305  \n",
       "top     c7f66da1cae4f223b9bae717f05900f7  \n",
       "freq                                 104  "
      ]
     },
     "execution_count": 13,
     "metadata": {},
     "output_type": "execute_result"
    }
   ],
   "source": [
    "df.describe()"
   ]
  },
  {
   "cell_type": "code",
   "execution_count": 14,
   "id": "f973d4e2",
   "metadata": {},
   "outputs": [
    {
     "data": {
      "text/html": [
       "<div>\n",
       "<style scoped>\n",
       "    .dataframe tbody tr th:only-of-type {\n",
       "        vertical-align: middle;\n",
       "    }\n",
       "\n",
       "    .dataframe tbody tr th {\n",
       "        vertical-align: top;\n",
       "    }\n",
       "\n",
       "    .dataframe thead th {\n",
       "        text-align: right;\n",
       "    }\n",
       "</style>\n",
       "<table border=\"1\" class=\"dataframe\">\n",
       "  <thead>\n",
       "    <tr style=\"text-align: right;\">\n",
       "      <th></th>\n",
       "      <th>KundenNr</th>\n",
       "      <th>Ort</th>\n",
       "      <th>GeoId</th>\n",
       "    </tr>\n",
       "  </thead>\n",
       "  <tbody>\n",
       "    <tr>\n",
       "      <th>2254</th>\n",
       "      <td>79143db83c8e10f0cb6af3e37d2f0e67</td>\n",
       "      <td>Stahlhofen</td>\n",
       "      <td>1a756b82c4d6213e7feade71cdeafaa6</td>\n",
       "    </tr>\n",
       "    <tr>\n",
       "      <th>2255</th>\n",
       "      <td>79143db83c8e10f0cb6af3e37d2f0e67</td>\n",
       "      <td>Stahlhofen</td>\n",
       "      <td>1a756b82c4d6213e7feade71cdeafaa6</td>\n",
       "    </tr>\n",
       "    <tr>\n",
       "      <th>2256</th>\n",
       "      <td>79143db83c8e10f0cb6af3e37d2f0e67</td>\n",
       "      <td>Stahlhofen</td>\n",
       "      <td>1a756b82c4d6213e7feade71cdeafaa6</td>\n",
       "    </tr>\n",
       "    <tr>\n",
       "      <th>2257</th>\n",
       "      <td>79143db83c8e10f0cb6af3e37d2f0e67</td>\n",
       "      <td>Stahlhofen</td>\n",
       "      <td>1a756b82c4d6213e7feade71cdeafaa6</td>\n",
       "    </tr>\n",
       "  </tbody>\n",
       "</table>\n",
       "</div>"
      ],
      "text/plain": [
       "                              KundenNr         Ort  \\\n",
       "2254  79143db83c8e10f0cb6af3e37d2f0e67  Stahlhofen   \n",
       "2255  79143db83c8e10f0cb6af3e37d2f0e67  Stahlhofen   \n",
       "2256  79143db83c8e10f0cb6af3e37d2f0e67  Stahlhofen   \n",
       "2257  79143db83c8e10f0cb6af3e37d2f0e67  Stahlhofen   \n",
       "\n",
       "                                 GeoId  \n",
       "2254  1a756b82c4d6213e7feade71cdeafaa6  \n",
       "2255  1a756b82c4d6213e7feade71cdeafaa6  \n",
       "2256  1a756b82c4d6213e7feade71cdeafaa6  \n",
       "2257  1a756b82c4d6213e7feade71cdeafaa6  "
      ]
     },
     "execution_count": 14,
     "metadata": {},
     "output_type": "execute_result"
    }
   ],
   "source": [
    "# Überprüfung der Standorte für den „beliebtesten“ Kunden – ob sie gleich oder unterschiedlich sind\n",
    "temp_df = df[df['KundenNr']=='79143db83c8e10f0cb6af3e37d2f0e67']\n",
    "temp_df"
   ]
  },
  {
   "cell_type": "code",
   "execution_count": 15,
   "id": "d1e27282",
   "metadata": {},
   "outputs": [
    {
     "data": {
      "text/plain": [
       "True"
      ]
     },
     "execution_count": 15,
     "metadata": {},
     "output_type": "execute_result"
    }
   ],
   "source": [
    "# Verdacht auf doppelte Werte\n",
    "duplicates = df.duplicated()\n",
    "duplicates.any()"
   ]
  },
  {
   "cell_type": "code",
   "execution_count": 16,
   "id": "b8736669",
   "metadata": {},
   "outputs": [],
   "source": [
    "# Duplikate entfernen\n",
    "df = df.drop_duplicates()"
   ]
  },
  {
   "cell_type": "code",
   "execution_count": 17,
   "id": "aa9824ca",
   "metadata": {
    "scrolled": true
   },
   "outputs": [
    {
     "data": {
      "text/html": [
       "<div>\n",
       "<style scoped>\n",
       "    .dataframe tbody tr th:only-of-type {\n",
       "        vertical-align: middle;\n",
       "    }\n",
       "\n",
       "    .dataframe tbody tr th {\n",
       "        vertical-align: top;\n",
       "    }\n",
       "\n",
       "    .dataframe thead th {\n",
       "        text-align: right;\n",
       "    }\n",
       "</style>\n",
       "<table border=\"1\" class=\"dataframe\">\n",
       "  <thead>\n",
       "    <tr style=\"text-align: right;\">\n",
       "      <th></th>\n",
       "      <th>KundenNr</th>\n",
       "      <th>Ort</th>\n",
       "      <th>GeoId</th>\n",
       "    </tr>\n",
       "  </thead>\n",
       "  <tbody>\n",
       "    <tr>\n",
       "      <th>count</th>\n",
       "      <td>7610</td>\n",
       "      <td>7610</td>\n",
       "      <td>7610</td>\n",
       "    </tr>\n",
       "    <tr>\n",
       "      <th>unique</th>\n",
       "      <td>7610</td>\n",
       "      <td>814</td>\n",
       "      <td>7305</td>\n",
       "    </tr>\n",
       "    <tr>\n",
       "      <th>top</th>\n",
       "      <td>8715d06c5a081b4fc09a1e3c543a46c0</td>\n",
       "      <td>Koblenz</td>\n",
       "      <td>c7f66da1cae4f223b9bae717f05900f7</td>\n",
       "    </tr>\n",
       "    <tr>\n",
       "      <th>freq</th>\n",
       "      <td>1</td>\n",
       "      <td>1724</td>\n",
       "      <td>103</td>\n",
       "    </tr>\n",
       "  </tbody>\n",
       "</table>\n",
       "</div>"
      ],
      "text/plain": [
       "                                KundenNr      Ort  \\\n",
       "count                               7610     7610   \n",
       "unique                              7610      814   \n",
       "top     8715d06c5a081b4fc09a1e3c543a46c0  Koblenz   \n",
       "freq                                   1     1724   \n",
       "\n",
       "                                   GeoId  \n",
       "count                               7610  \n",
       "unique                              7305  \n",
       "top     c7f66da1cae4f223b9bae717f05900f7  \n",
       "freq                                 103  "
      ]
     },
     "execution_count": 17,
     "metadata": {},
     "output_type": "execute_result"
    }
   ],
   "source": [
    "df.describe()"
   ]
  },
  {
   "cell_type": "markdown",
   "id": "9200cebe",
   "metadata": {},
   "source": [
    "# Speichern des aktuellen DataFrame in einer CSV-Datei"
   ]
  },
  {
   "cell_type": "code",
   "execution_count": 18,
   "id": "5a61d02c",
   "metadata": {},
   "outputs": [],
   "source": [
    "df.to_csv('clean_raw_data\\Kundensicht.csv', index=False)"
   ]
  },
  {
   "cell_type": "code",
   "execution_count": null,
   "id": "99be6c32",
   "metadata": {},
   "outputs": [],
   "source": []
  }
 ],
 "metadata": {
  "kernelspec": {
   "display_name": "Python 3 (ipykernel)",
   "language": "python",
   "name": "python3"
  },
  "language_info": {
   "codemirror_mode": {
    "name": "ipython",
    "version": 3
   },
   "file_extension": ".py",
   "mimetype": "text/x-python",
   "name": "python",
   "nbconvert_exporter": "python",
   "pygments_lexer": "ipython3",
   "version": "3.11.5"
  }
 },
 "nbformat": 4,
 "nbformat_minor": 5
}
