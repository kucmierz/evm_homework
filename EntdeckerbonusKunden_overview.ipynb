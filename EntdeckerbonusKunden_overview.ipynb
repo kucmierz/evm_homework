{
 "cells": [
  {
   "cell_type": "markdown",
   "id": "6fa1d7af",
   "metadata": {},
   "source": [
    "# Bibliotheken laden\n",
    "#### Daten-Upload"
   ]
  },
  {
   "cell_type": "code",
   "execution_count": 2,
   "id": "dde2ccd5",
   "metadata": {},
   "outputs": [],
   "source": [
    "import pandas as pd"
   ]
  },
  {
   "cell_type": "code",
   "execution_count": 3,
   "id": "0cd08862",
   "metadata": {},
   "outputs": [],
   "source": [
    "EntdeckerbonusKunden = 'raw_data\\EntdeckerbonusKunden.csv'\n",
    "sep = ';'"
   ]
  },
  {
   "cell_type": "code",
   "execution_count": 4,
   "id": "f8f35502",
   "metadata": {},
   "outputs": [
    {
     "data": {
      "text/html": [
       "<div>\n",
       "<style scoped>\n",
       "    .dataframe tbody tr th:only-of-type {\n",
       "        vertical-align: middle;\n",
       "    }\n",
       "\n",
       "    .dataframe tbody tr th {\n",
       "        vertical-align: top;\n",
       "    }\n",
       "\n",
       "    .dataframe thead th {\n",
       "        text-align: right;\n",
       "    }\n",
       "</style>\n",
       "<table border=\"1\" class=\"dataframe\">\n",
       "  <thead>\n",
       "    <tr style=\"text-align: right;\">\n",
       "      <th></th>\n",
       "      <th>Unnamed: 0</th>\n",
       "      <th>Angebot</th>\n",
       "      <th>KundenNr</th>\n",
       "      <th>Einloesedatum</th>\n",
       "    </tr>\n",
       "  </thead>\n",
       "  <tbody>\n",
       "    <tr>\n",
       "      <th>0</th>\n",
       "      <td>1</td>\n",
       "      <td>6640a2057810a93511ae00bf4f66357e</td>\n",
       "      <td>c31d756e5ca8e94b41ff4ebd619b68d9</td>\n",
       "      <td>2021-07-01T11:17:11.297+0000</td>\n",
       "    </tr>\n",
       "    <tr>\n",
       "      <th>1</th>\n",
       "      <td>2</td>\n",
       "      <td>10278a9c5032bc7df577045c98e16bda</td>\n",
       "      <td>96d849e1394234ccb29e31e5e7e6722f</td>\n",
       "      <td>2021-07-01T13:46:29.099+0000</td>\n",
       "    </tr>\n",
       "  </tbody>\n",
       "</table>\n",
       "</div>"
      ],
      "text/plain": [
       "   Unnamed: 0                           Angebot  \\\n",
       "0           1  6640a2057810a93511ae00bf4f66357e   \n",
       "1           2  10278a9c5032bc7df577045c98e16bda   \n",
       "\n",
       "                           KundenNr                 Einloesedatum  \n",
       "0  c31d756e5ca8e94b41ff4ebd619b68d9  2021-07-01T11:17:11.297+0000  \n",
       "1  96d849e1394234ccb29e31e5e7e6722f  2021-07-01T13:46:29.099+0000  "
      ]
     },
     "execution_count": 4,
     "metadata": {},
     "output_type": "execute_result"
    }
   ],
   "source": [
    "# Es werden nur die ersten zwei Zeilen geladen, um die Header-Struktur zu überprüfen\n",
    "df = pd.read_csv(EntdeckerbonusKunden, sep=sep, nrows=2)\n",
    "df.head()"
   ]
  },
  {
   "cell_type": "code",
   "execution_count": 5,
   "id": "93560cc4",
   "metadata": {},
   "outputs": [
    {
     "data": {
      "text/html": [
       "<div>\n",
       "<style scoped>\n",
       "    .dataframe tbody tr th:only-of-type {\n",
       "        vertical-align: middle;\n",
       "    }\n",
       "\n",
       "    .dataframe tbody tr th {\n",
       "        vertical-align: top;\n",
       "    }\n",
       "\n",
       "    .dataframe thead th {\n",
       "        text-align: right;\n",
       "    }\n",
       "</style>\n",
       "<table border=\"1\" class=\"dataframe\">\n",
       "  <thead>\n",
       "    <tr style=\"text-align: right;\">\n",
       "      <th></th>\n",
       "      <th>Angebot</th>\n",
       "      <th>KundenNr</th>\n",
       "      <th>Einloesedatum</th>\n",
       "    </tr>\n",
       "  </thead>\n",
       "  <tbody>\n",
       "    <tr>\n",
       "      <th>0</th>\n",
       "      <td>6640a2057810a93511ae00bf4f66357e</td>\n",
       "      <td>c31d756e5ca8e94b41ff4ebd619b68d9</td>\n",
       "      <td>2021-07-01T11:17:11.297+0000</td>\n",
       "    </tr>\n",
       "    <tr>\n",
       "      <th>1</th>\n",
       "      <td>10278a9c5032bc7df577045c98e16bda</td>\n",
       "      <td>96d849e1394234ccb29e31e5e7e6722f</td>\n",
       "      <td>2021-07-01T13:46:29.099+0000</td>\n",
       "    </tr>\n",
       "    <tr>\n",
       "      <th>2</th>\n",
       "      <td>6640a2057810a93511ae00bf4f66357e</td>\n",
       "      <td>777e2512c1a9a28dc4a645e95a5b6afa</td>\n",
       "      <td>2021-07-02T10:52:59.087+0000</td>\n",
       "    </tr>\n",
       "    <tr>\n",
       "      <th>3</th>\n",
       "      <td>a6473e1fccb1f56b594f01ccddc52f8f</td>\n",
       "      <td>702728b8167a14b900f331076db52673</td>\n",
       "      <td>2021-07-03T08:41:21.163+0000</td>\n",
       "    </tr>\n",
       "    <tr>\n",
       "      <th>4</th>\n",
       "      <td>6ce58ed831850a365fbb0c1ee56ae4f0</td>\n",
       "      <td>017d2203c7556fe4deb6d341964717f9</td>\n",
       "      <td>2021-07-04T13:41:18.839+0000</td>\n",
       "    </tr>\n",
       "  </tbody>\n",
       "</table>\n",
       "</div>"
      ],
      "text/plain": [
       "                            Angebot                          KundenNr  \\\n",
       "0  6640a2057810a93511ae00bf4f66357e  c31d756e5ca8e94b41ff4ebd619b68d9   \n",
       "1  10278a9c5032bc7df577045c98e16bda  96d849e1394234ccb29e31e5e7e6722f   \n",
       "2  6640a2057810a93511ae00bf4f66357e  777e2512c1a9a28dc4a645e95a5b6afa   \n",
       "3  a6473e1fccb1f56b594f01ccddc52f8f  702728b8167a14b900f331076db52673   \n",
       "4  6ce58ed831850a365fbb0c1ee56ae4f0  017d2203c7556fe4deb6d341964717f9   \n",
       "\n",
       "                  Einloesedatum  \n",
       "0  2021-07-01T11:17:11.297+0000  \n",
       "1  2021-07-01T13:46:29.099+0000  \n",
       "2  2021-07-02T10:52:59.087+0000  \n",
       "3  2021-07-03T08:41:21.163+0000  \n",
       "4  2021-07-04T13:41:18.839+0000  "
      ]
     },
     "execution_count": 5,
     "metadata": {},
     "output_type": "execute_result"
    }
   ],
   "source": [
    "# Hochladen von Daten ohne die erste Spalte\n",
    "cols = df.columns\n",
    "df = pd.read_csv(EntdeckerbonusKunden, sep=sep, usecols=cols[1:])\n",
    "df.head()"
   ]
  },
  {
   "cell_type": "markdown",
   "id": "4e671254",
   "metadata": {},
   "source": [
    "# Basisinformationen zum Datensatz"
   ]
  },
  {
   "cell_type": "code",
   "execution_count": 6,
   "id": "fa4692be",
   "metadata": {},
   "outputs": [
    {
     "data": {
      "text/plain": [
       "(931, 3)"
      ]
     },
     "execution_count": 6,
     "metadata": {},
     "output_type": "execute_result"
    }
   ],
   "source": [
    "# Datendimensionen\n",
    "df.shape"
   ]
  },
  {
   "cell_type": "code",
   "execution_count": 7,
   "id": "3d2d20a5",
   "metadata": {},
   "outputs": [
    {
     "data": {
      "text/plain": [
       "Angebot          0\n",
       "KundenNr         0\n",
       "Einloesedatum    0\n",
       "dtype: int64"
      ]
     },
     "execution_count": 7,
     "metadata": {},
     "output_type": "execute_result"
    }
   ],
   "source": [
    "# ob es leere Zellen gibt\n",
    "df.isna().sum()"
   ]
  },
  {
   "cell_type": "code",
   "execution_count": 8,
   "id": "e047da48",
   "metadata": {},
   "outputs": [
    {
     "data": {
      "text/plain": [
       "Angebot          object\n",
       "KundenNr         object\n",
       "Einloesedatum    object\n",
       "dtype: object"
      ]
     },
     "execution_count": 8,
     "metadata": {},
     "output_type": "execute_result"
    }
   ],
   "source": [
    "# Überprüfung des Datentyps\n",
    "df.dtypes"
   ]
  },
  {
   "cell_type": "code",
   "execution_count": 9,
   "id": "911af475",
   "metadata": {
    "scrolled": true
   },
   "outputs": [
    {
     "data": {
      "text/html": [
       "<div>\n",
       "<style scoped>\n",
       "    .dataframe tbody tr th:only-of-type {\n",
       "        vertical-align: middle;\n",
       "    }\n",
       "\n",
       "    .dataframe tbody tr th {\n",
       "        vertical-align: top;\n",
       "    }\n",
       "\n",
       "    .dataframe thead th {\n",
       "        text-align: right;\n",
       "    }\n",
       "</style>\n",
       "<table border=\"1\" class=\"dataframe\">\n",
       "  <thead>\n",
       "    <tr style=\"text-align: right;\">\n",
       "      <th></th>\n",
       "      <th>Angebot</th>\n",
       "      <th>KundenNr</th>\n",
       "      <th>Einloesedatum</th>\n",
       "    </tr>\n",
       "  </thead>\n",
       "  <tbody>\n",
       "    <tr>\n",
       "      <th>count</th>\n",
       "      <td>931</td>\n",
       "      <td>931</td>\n",
       "      <td>931</td>\n",
       "    </tr>\n",
       "    <tr>\n",
       "      <th>unique</th>\n",
       "      <td>75</td>\n",
       "      <td>732</td>\n",
       "      <td>930</td>\n",
       "    </tr>\n",
       "    <tr>\n",
       "      <th>top</th>\n",
       "      <td>10278a9c5032bc7df577045c98e16bda</td>\n",
       "      <td>c31d756e5ca8e94b41ff4ebd619b68d9</td>\n",
       "      <td>2022-06-17T10:00:00.000+0000</td>\n",
       "    </tr>\n",
       "    <tr>\n",
       "      <th>freq</th>\n",
       "      <td>189</td>\n",
       "      <td>12</td>\n",
       "      <td>2</td>\n",
       "    </tr>\n",
       "  </tbody>\n",
       "</table>\n",
       "</div>"
      ],
      "text/plain": [
       "                                 Angebot                          KundenNr  \\\n",
       "count                                931                               931   \n",
       "unique                                75                               732   \n",
       "top     10278a9c5032bc7df577045c98e16bda  c31d756e5ca8e94b41ff4ebd619b68d9   \n",
       "freq                                 189                                12   \n",
       "\n",
       "                       Einloesedatum  \n",
       "count                            931  \n",
       "unique                           930  \n",
       "top     2022-06-17T10:00:00.000+0000  \n",
       "freq                               2  "
      ]
     },
     "execution_count": 9,
     "metadata": {},
     "output_type": "execute_result"
    }
   ],
   "source": [
    "df.describe()"
   ]
  },
  {
   "cell_type": "code",
   "execution_count": 10,
   "id": "0e761fa5",
   "metadata": {},
   "outputs": [
    {
     "data": {
      "text/plain": [
       "False"
      ]
     },
     "execution_count": 10,
     "metadata": {},
     "output_type": "execute_result"
    }
   ],
   "source": [
    "# Auf Duplikate prüfen\n",
    "duplicates = df.duplicated()\n",
    "duplicates.any()"
   ]
  },
  {
   "cell_type": "code",
   "execution_count": 11,
   "id": "dadafcd7",
   "metadata": {},
   "outputs": [],
   "source": [
    "# Konvertieren der Spalte „Einloesedatum“ in einen Datumstyp und Hinzufügen weiterer Spalten\n",
    "df['Einloesedatum'] = pd.to_datetime(df['Einloesedatum'], format=\"%Y-%m-%dT%H:%M:%S.%f%z\")\n",
    "\n",
    "df['Einloesedatum_date'] = df['Einloesedatum'].dt.date\n",
    "df['Einloesedatum_time'] = df['Einloesedatum'].dt.time\n",
    "df['Einloesedatum_year'] = df['Einloesedatum'].dt.year\n",
    "df['Einloesedatum_month'] = df['Einloesedatum'].dt.month\n",
    "df['Einloesedatum_week_number'] = df['Einloesedatum'].dt.isocalendar().week"
   ]
  },
  {
   "cell_type": "code",
   "execution_count": 12,
   "id": "0312ce1a",
   "metadata": {},
   "outputs": [
    {
     "data": {
      "text/html": [
       "<div>\n",
       "<style scoped>\n",
       "    .dataframe tbody tr th:only-of-type {\n",
       "        vertical-align: middle;\n",
       "    }\n",
       "\n",
       "    .dataframe tbody tr th {\n",
       "        vertical-align: top;\n",
       "    }\n",
       "\n",
       "    .dataframe thead th {\n",
       "        text-align: right;\n",
       "    }\n",
       "</style>\n",
       "<table border=\"1\" class=\"dataframe\">\n",
       "  <thead>\n",
       "    <tr style=\"text-align: right;\">\n",
       "      <th></th>\n",
       "      <th>Angebot</th>\n",
       "      <th>KundenNr</th>\n",
       "      <th>Einloesedatum</th>\n",
       "      <th>Einloesedatum_date</th>\n",
       "      <th>Einloesedatum_time</th>\n",
       "      <th>Einloesedatum_year</th>\n",
       "      <th>Einloesedatum_month</th>\n",
       "      <th>Einloesedatum_week_number</th>\n",
       "    </tr>\n",
       "  </thead>\n",
       "  <tbody>\n",
       "    <tr>\n",
       "      <th>0</th>\n",
       "      <td>6640a2057810a93511ae00bf4f66357e</td>\n",
       "      <td>c31d756e5ca8e94b41ff4ebd619b68d9</td>\n",
       "      <td>2021-07-01 11:17:11.297000+00:00</td>\n",
       "      <td>2021-07-01</td>\n",
       "      <td>11:17:11.297000</td>\n",
       "      <td>2021</td>\n",
       "      <td>7</td>\n",
       "      <td>26</td>\n",
       "    </tr>\n",
       "    <tr>\n",
       "      <th>1</th>\n",
       "      <td>10278a9c5032bc7df577045c98e16bda</td>\n",
       "      <td>96d849e1394234ccb29e31e5e7e6722f</td>\n",
       "      <td>2021-07-01 13:46:29.099000+00:00</td>\n",
       "      <td>2021-07-01</td>\n",
       "      <td>13:46:29.099000</td>\n",
       "      <td>2021</td>\n",
       "      <td>7</td>\n",
       "      <td>26</td>\n",
       "    </tr>\n",
       "    <tr>\n",
       "      <th>2</th>\n",
       "      <td>6640a2057810a93511ae00bf4f66357e</td>\n",
       "      <td>777e2512c1a9a28dc4a645e95a5b6afa</td>\n",
       "      <td>2021-07-02 10:52:59.087000+00:00</td>\n",
       "      <td>2021-07-02</td>\n",
       "      <td>10:52:59.087000</td>\n",
       "      <td>2021</td>\n",
       "      <td>7</td>\n",
       "      <td>26</td>\n",
       "    </tr>\n",
       "    <tr>\n",
       "      <th>3</th>\n",
       "      <td>a6473e1fccb1f56b594f01ccddc52f8f</td>\n",
       "      <td>702728b8167a14b900f331076db52673</td>\n",
       "      <td>2021-07-03 08:41:21.163000+00:00</td>\n",
       "      <td>2021-07-03</td>\n",
       "      <td>08:41:21.163000</td>\n",
       "      <td>2021</td>\n",
       "      <td>7</td>\n",
       "      <td>26</td>\n",
       "    </tr>\n",
       "    <tr>\n",
       "      <th>4</th>\n",
       "      <td>6ce58ed831850a365fbb0c1ee56ae4f0</td>\n",
       "      <td>017d2203c7556fe4deb6d341964717f9</td>\n",
       "      <td>2021-07-04 13:41:18.839000+00:00</td>\n",
       "      <td>2021-07-04</td>\n",
       "      <td>13:41:18.839000</td>\n",
       "      <td>2021</td>\n",
       "      <td>7</td>\n",
       "      <td>26</td>\n",
       "    </tr>\n",
       "  </tbody>\n",
       "</table>\n",
       "</div>"
      ],
      "text/plain": [
       "                            Angebot                          KundenNr  \\\n",
       "0  6640a2057810a93511ae00bf4f66357e  c31d756e5ca8e94b41ff4ebd619b68d9   \n",
       "1  10278a9c5032bc7df577045c98e16bda  96d849e1394234ccb29e31e5e7e6722f   \n",
       "2  6640a2057810a93511ae00bf4f66357e  777e2512c1a9a28dc4a645e95a5b6afa   \n",
       "3  a6473e1fccb1f56b594f01ccddc52f8f  702728b8167a14b900f331076db52673   \n",
       "4  6ce58ed831850a365fbb0c1ee56ae4f0  017d2203c7556fe4deb6d341964717f9   \n",
       "\n",
       "                     Einloesedatum Einloesedatum_date Einloesedatum_time  \\\n",
       "0 2021-07-01 11:17:11.297000+00:00         2021-07-01    11:17:11.297000   \n",
       "1 2021-07-01 13:46:29.099000+00:00         2021-07-01    13:46:29.099000   \n",
       "2 2021-07-02 10:52:59.087000+00:00         2021-07-02    10:52:59.087000   \n",
       "3 2021-07-03 08:41:21.163000+00:00         2021-07-03    08:41:21.163000   \n",
       "4 2021-07-04 13:41:18.839000+00:00         2021-07-04    13:41:18.839000   \n",
       "\n",
       "   Einloesedatum_year  Einloesedatum_month  Einloesedatum_week_number  \n",
       "0                2021                    7                         26  \n",
       "1                2021                    7                         26  \n",
       "2                2021                    7                         26  \n",
       "3                2021                    7                         26  \n",
       "4                2021                    7                         26  "
      ]
     },
     "execution_count": 12,
     "metadata": {},
     "output_type": "execute_result"
    }
   ],
   "source": [
    "df.head()"
   ]
  },
  {
   "cell_type": "code",
   "execution_count": 13,
   "id": "2ed5f040",
   "metadata": {},
   "outputs": [
    {
     "name": "stdout",
     "output_type": "stream",
     "text": [
      "Anzahl von Jahren: 2, Anzahl der Monate: 12\n",
      "einzigartige Jahre: [2021, 2022]\n",
      "einzigartige Monate: [1, 2, 3, 4, 5, 6, 7, 8, 9, 10, 11, 12]\n"
     ]
    }
   ],
   "source": [
    "number_of_years = df['Einloesedatum_year'].nunique()\n",
    "unique_yers = df['Einloesedatum_year'].unique()\n",
    "number_of_months = df['Einloesedatum_month'].nunique()\n",
    "unique_months = df['Einloesedatum_month'].unique()\n",
    "\n",
    "print(f\"Anzahl von Jahren: {number_of_years}, Anzahl der Monate: {number_of_months}\")\n",
    "print(f\"einzigartige Jahre: {sorted(unique_yers)}\")\n",
    "print(f\"einzigartige Monate: {sorted(unique_months)}\")"
   ]
  },
  {
   "cell_type": "markdown",
   "id": "738ddec8",
   "metadata": {},
   "source": [
    "# Speichern des aktuellen DataFrame in einer CSV-Datei"
   ]
  },
  {
   "cell_type": "code",
   "execution_count": 14,
   "id": "c1a1db12",
   "metadata": {},
   "outputs": [],
   "source": [
    "df.to_csv('clean_raw_data\\EntdeckerbonusKunden.csv', index=False)"
   ]
  }
 ],
 "metadata": {
  "kernelspec": {
   "display_name": "Python 3 (ipykernel)",
   "language": "python",
   "name": "python3"
  },
  "language_info": {
   "codemirror_mode": {
    "name": "ipython",
    "version": 3
   },
   "file_extension": ".py",
   "mimetype": "text/x-python",
   "name": "python",
   "nbconvert_exporter": "python",
   "pygments_lexer": "ipython3",
   "version": "3.11.5"
  }
 },
 "nbformat": 4,
 "nbformat_minor": 5
}
